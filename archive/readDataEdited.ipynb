{
 "cells": [
  {
   "cell_type": "markdown",
   "metadata": {},
   "source": [
    "# NLP Pipeline Jupyter Notebook for the aiTextDetect Project\n",
    "\n",
    "## Reading in the ASAP kaggle datasets"
   ]
  },
  {
   "cell_type": "code",
   "execution_count": 24,
   "metadata": {
    "scrolled": true
   },
   "outputs": [],
   "source": [
    "#install dependencies\n",
    "import pandas as pd\n",
    "import numpy as np\n",
    "#import plotnine as p9"
   ]
  },
  {
   "cell_type": "code",
   "execution_count": 50,
   "metadata": {},
   "outputs": [],
   "source": [
    "#read the datasets\n",
    "\n",
    "#read in the training dataset\n",
    "trainDf = pd.read_excel(\"../rawData/training_set_rel3.xlsx\")\n",
    "trainDf = trainDf[[\"essay_id\", \"essay_set\", \"essay\"]] #only keep relevant colummns\n",
    "trainDf[\"ai_generated\"] = 0 #create new variable desigating whether the data are ai generated (1) or human generated (0)\n",
    "trainDf\n",
    "\n",
    "#read in the validation dataset\n",
    "validDf = pd.read_excel(\"../rawData/valid_set.xlsx\")\n",
    "validDf = validDf[[\"essay_id\", \"essay_set\", \"essay\"]] #only keep relevant colummns\n",
    "validDf[\"ai_generated\"] = 0 #create new variable desigating whether the data are ai generated (1) or human generated (0)\n",
    "validDf\n",
    "\n",
    "#read in the 'test' dataset (we'll create our own n-fold crossvalidation)\n",
    "testDf = pd.read_csv(\"../rawData/test_set.tsv\", sep = \"\\t\", encoding = \"latin-1\") #got an error with default encoding. This site https://github.com/nusnlp/nea/issues/11 suggested latin-1 encoding\n",
    "testDf = testDf[[\"essay_id\", \"essay_set\", \"essay\"]] #keep relevant columns\n",
    "testDf[\"ai_generated\"] = 0 #create new variable desigating whether the data are ai generated (1) or human generated (0)\n",
    "\n",
    "#merge the three datasets into a preliminary dataset\n",
    "mergeDf = pd.concat([trainDf, validDf, testDf], axis = 0)\n",
    "\n",
    "#write merged file to excel doc\n",
    "mergeDf.to_excel(\"../cleanData/mergedAsap.xlsx\")\n",
    "\n"
   ]
  },
  {
   "cell_type": "code",
   "execution_count": 2,
   "metadata": {
    "scrolled": true
   },
   "outputs": [
    {
     "data": {
      "text/html": [
       "<div>\n",
       "<style scoped>\n",
       "    .dataframe tbody tr th:only-of-type {\n",
       "        vertical-align: middle;\n",
       "    }\n",
       "\n",
       "    .dataframe tbody tr th {\n",
       "        vertical-align: top;\n",
       "    }\n",
       "\n",
       "    .dataframe thead th {\n",
       "        text-align: right;\n",
       "    }\n",
       "</style>\n",
       "<table border=\"1\" class=\"dataframe\">\n",
       "  <thead>\n",
       "    <tr style=\"text-align: right;\">\n",
       "      <th></th>\n",
       "      <th>essay_id</th>\n",
       "      <th>essay_set</th>\n",
       "      <th>essay</th>\n",
       "      <th>ai_generated</th>\n",
       "    </tr>\n",
       "  </thead>\n",
       "  <tbody>\n",
       "    <tr>\n",
       "      <th>0</th>\n",
       "      <td>1</td>\n",
       "      <td>1</td>\n",
       "      <td>Dear local newspaper, I think effects computer...</td>\n",
       "      <td>0</td>\n",
       "    </tr>\n",
       "    <tr>\n",
       "      <th>1</th>\n",
       "      <td>2</td>\n",
       "      <td>1</td>\n",
       "      <td>Dear @CAPS1 @CAPS2, I believe that using compu...</td>\n",
       "      <td>0</td>\n",
       "    </tr>\n",
       "    <tr>\n",
       "      <th>2</th>\n",
       "      <td>3</td>\n",
       "      <td>1</td>\n",
       "      <td>Dear, @CAPS1 @CAPS2 @CAPS3 More and more peopl...</td>\n",
       "      <td>0</td>\n",
       "    </tr>\n",
       "    <tr>\n",
       "      <th>3</th>\n",
       "      <td>4</td>\n",
       "      <td>1</td>\n",
       "      <td>Dear Local Newspaper, @CAPS1 I have found that...</td>\n",
       "      <td>0</td>\n",
       "    </tr>\n",
       "    <tr>\n",
       "      <th>4</th>\n",
       "      <td>5</td>\n",
       "      <td>1</td>\n",
       "      <td>Dear @LOCATION1, I know having computers has a...</td>\n",
       "      <td>0</td>\n",
       "    </tr>\n",
       "    <tr>\n",
       "      <th>...</th>\n",
       "      <td>...</td>\n",
       "      <td>...</td>\n",
       "      <td>...</td>\n",
       "      <td>...</td>\n",
       "    </tr>\n",
       "    <tr>\n",
       "      <th>12973</th>\n",
       "      <td>21626</td>\n",
       "      <td>8</td>\n",
       "      <td>In most stories mothers and daughters are eit...</td>\n",
       "      <td>0</td>\n",
       "    </tr>\n",
       "    <tr>\n",
       "      <th>12974</th>\n",
       "      <td>21628</td>\n",
       "      <td>8</td>\n",
       "      <td>I never understood the meaning laughter is th...</td>\n",
       "      <td>0</td>\n",
       "    </tr>\n",
       "    <tr>\n",
       "      <th>12975</th>\n",
       "      <td>21629</td>\n",
       "      <td>8</td>\n",
       "      <td>When you laugh, is @CAPS5 out of habit, or is ...</td>\n",
       "      <td>0</td>\n",
       "    </tr>\n",
       "    <tr>\n",
       "      <th>12976</th>\n",
       "      <td>21630</td>\n",
       "      <td>8</td>\n",
       "      <td>Trippin' on fen...</td>\n",
       "      <td>0</td>\n",
       "    </tr>\n",
       "    <tr>\n",
       "      <th>12977</th>\n",
       "      <td>21633</td>\n",
       "      <td>8</td>\n",
       "      <td>Many people believe that laughter can improve...</td>\n",
       "      <td>0</td>\n",
       "    </tr>\n",
       "  </tbody>\n",
       "</table>\n",
       "<p>12978 rows × 4 columns</p>\n",
       "</div>"
      ],
      "text/plain": [
       "       essay_id  essay_set                                              essay  \\\n",
       "0             1          1  Dear local newspaper, I think effects computer...   \n",
       "1             2          1  Dear @CAPS1 @CAPS2, I believe that using compu...   \n",
       "2             3          1  Dear, @CAPS1 @CAPS2 @CAPS3 More and more peopl...   \n",
       "3             4          1  Dear Local Newspaper, @CAPS1 I have found that...   \n",
       "4             5          1  Dear @LOCATION1, I know having computers has a...   \n",
       "...         ...        ...                                                ...   \n",
       "12973     21626          8   In most stories mothers and daughters are eit...   \n",
       "12974     21628          8   I never understood the meaning laughter is th...   \n",
       "12975     21629          8  When you laugh, is @CAPS5 out of habit, or is ...   \n",
       "12976     21630          8                                 Trippin' on fen...   \n",
       "12977     21633          8   Many people believe that laughter can improve...   \n",
       "\n",
       "       ai_generated  \n",
       "0                 0  \n",
       "1                 0  \n",
       "2                 0  \n",
       "3                 0  \n",
       "4                 0  \n",
       "...             ...  \n",
       "12973             0  \n",
       "12974             0  \n",
       "12975             0  \n",
       "12976             0  \n",
       "12977             0  \n",
       "\n",
       "[12978 rows x 4 columns]"
      ]
     },
     "execution_count": 2,
     "metadata": {},
     "output_type": "execute_result"
    }
   ],
   "source": [
    "#read in the training dataset\n",
    "trainDf = pd.read_excel(\"../rawData/training_set_rel3.xlsx\")\n",
    "trainDf = trainDf[[\"essay_id\", \"essay_set\", \"essay\"]] #only keep relevant colummns\n",
    "trainDf[\"ai_generated\"] = 0 #create new variable desigating whether the data are ai generated (1) or human generated (0)\n",
    "trainDf\n"
   ]
  },
  {
   "cell_type": "code",
   "execution_count": 8,
   "metadata": {
    "scrolled": true
   },
   "outputs": [
    {
     "name": "stdout",
     "output_type": "stream",
     "text": [
      "Dear local newspaper, I think effects computers have on people are great learning skills/affects because they give us time to chat with friends/new people, helps us learn about the globe(astronomy) and keeps us out of troble! Thing about! Dont you think so? How would you feel if your teenager is always on the phone with friends! Do you ever time to chat with your friends or buisness partner about things. Well now - there's a new way to chat the computer, theirs plenty of sites on the internet to do so: @ORGANIZATION1, @ORGANIZATION2, @CAPS1, facebook, myspace ect. Just think now while your setting up meeting with your boss on the computer, your teenager is having fun on the phone not rushing to get off cause you want to use it. How did you learn about other countrys/states outside of yours? Well I have by computer/internet, it's a new way to learn about what going on in our time! You might think your child spends a lot of time on the computer, but ask them so question about the economy, sea floor spreading or even about the @DATE1's you'll be surprise at how much he/she knows. Believe it or not the computer is much interesting then in class all day reading out of books. If your child is home on your computer or at a local library, it's better than being out with friends being fresh, or being perpressured to doing something they know isnt right. You might not know where your child is, @CAPS2 forbidde in a hospital bed because of a drive-by. Rather than your child on the computer learning, chatting or just playing games, safe and sound in your home or community place. Now I hope you have reached a point to understand and agree with me, because computers can have great effects on you or child because it gives us time to chat with friends/new people, helps us learn about the globe and believe or not keeps us out of troble. Thank you for listening.\n"
     ]
    }
   ],
   "source": [
    "#read in the validiation data\n",
    "print(trainDf[\"essay\"].loc[trainDf.index[0]])\n"
   ]
  },
  {
   "cell_type": "code",
   "execution_count": 18,
   "metadata": {},
   "outputs": [],
   "source": [
    "Remove_Special_CharactersDf=trainDf[\"essay\"].str.replace('\\W', ' ', regex=True)"
   ]
  },
  {
   "cell_type": "code",
   "execution_count": 25,
   "metadata": {
    "scrolled": true
   },
   "outputs": [
    {
     "data": {
      "text/plain": [
       "0        Dear local newspaper  I think effects computer...\n",
       "1        Dear  CAPS1  CAPS2  I believe that using compu...\n",
       "2        Dear   CAPS1  CAPS2  CAPS3 More and more peopl...\n",
       "3        Dear Local Newspaper   CAPS1 I have found that...\n",
       "4        Dear  LOCATION1  I know having computers has a...\n",
       "                               ...                        \n",
       "12973     In most stories mothers and daughters are eit...\n",
       "12974     I never understood the meaning laughter is th...\n",
       "12975    When you laugh  is  CAPS5 out of habit  or is ...\n",
       "12976                                   Trippin  on fen...\n",
       "12977     Many people believe that laughter can improve...\n",
       "Name: essay, Length: 12978, dtype: object"
      ]
     },
     "execution_count": 25,
     "metadata": {},
     "output_type": "execute_result"
    }
   ],
   "source": [
    "Remove_Special_CharactersDf"
   ]
  },
  {
   "cell_type": "code",
   "execution_count": 26,
   "metadata": {},
   "outputs": [
    {
     "data": {
      "text/plain": [
       "'Dear  CAPS1  CAPS2  I believe that using computers will benefit us in many ways like talking and becoming friends will others through websites like facebook and mysace  Using computers can help us find coordibates  locations  and able ourselfs to millions of information  Also computers will benefit us by helping with jobs as in planning a house plan and typing a  NUM1 page report for one of our jobs in less than writing it  Now lets go into the wonder world of technology  Using a computer will help us in life by talking or making friends on line  Many people have myspace  facebooks  aim  these all benefit us by having conversations with one another  Many people believe computers are bad but how can you make friends if you can never talk to them  I am very fortunate for having a computer that can help with not only school work but my social life and how I make friends  Computers help us with finding our locations  coordibates and millions of information online  If we didn t go on the internet a lot we wouldn t know how to go onto websites that  MONTH1 help us with locations and coordinates like  LOCATION1  Would you rather use a computer or be in  LOCATION3  When your supposed to be vacationing in  LOCATION2  Million of information is found on the internet  You can as almost every question and a computer will have it  Would you rather easily draw up a house plan on the computers or take  NUM1 hours doing one by hand with ugly erazer marks all over it  you are garrenteed that to find a job with a drawing like that  Also when appling for a job many workers must write very long papers like a  NUM3 word essay on why this job fits you the most  and many people I know don t like writing  NUM3 words non stopp for hours when it could take them I hav an a computer  That is why computers we needed a lot now adays  I hope this essay has impacted your descion on computers because they are great machines to work with  The other day I showed my mom how to use a computer and she said it was the greatest invention sense sliced bread  Now go out and buy a computer to help you chat online with friends  find locations and millions of information on one click of the button and help your self with getting a job with neat  prepared  printed work that your boss will love '"
      ]
     },
     "execution_count": 26,
     "metadata": {},
     "output_type": "execute_result"
    }
   ],
   "source": [
    "Remove_Special_CharactersDf.loc[trainDf.index[1]]"
   ]
  },
  {
   "cell_type": "code",
   "execution_count": null,
   "metadata": {},
   "outputs": [],
   "source": []
  },
  {
   "cell_type": "code",
   "execution_count": null,
   "metadata": {},
   "outputs": [],
   "source": []
  },
  {
   "cell_type": "code",
   "execution_count": 52,
   "metadata": {},
   "outputs": [
    {
     "data": {
      "text/plain": [
       "Index(['essay_id', 'essay_set', 'essay', 'ai_generated'], dtype='object')"
      ]
     },
     "execution_count": 52,
     "metadata": {},
     "output_type": "execute_result"
    }
   ],
   "source": [
    "trainDf.columns"
   ]
  },
  {
   "cell_type": "code",
   "execution_count": null,
   "metadata": {},
   "outputs": [],
   "source": []
  }
 ],
 "metadata": {
  "kernelspec": {
   "display_name": "Python 3 (ipykernel)",
   "language": "python",
   "name": "python3"
  },
  "language_info": {
   "codemirror_mode": {
    "name": "ipython",
    "version": 3
   },
   "file_extension": ".py",
   "mimetype": "text/x-python",
   "name": "python",
   "nbconvert_exporter": "python",
   "pygments_lexer": "ipython3",
   "version": "3.9.13"
  }
 },
 "nbformat": 4,
 "nbformat_minor": 2
}
