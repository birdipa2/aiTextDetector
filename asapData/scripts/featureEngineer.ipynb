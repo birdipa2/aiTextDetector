{
 "cells": [
  {
   "attachments": {},
   "cell_type": "markdown",
   "metadata": {},
   "source": [
    "## Features to add\n",
    "- essay \"perplexity\" and variance in perplexity.  Seems to be the most important predictor in the literature.\n",
    "\n",
    "### Additional features to add (lower priority)\n",
    "- length of writing\n",
    "- average length of sentence\n",
    "- average complexity of a word\n",
    "- percentage of text that is punctuation\n",
    "- percentage of text that is commas (or average # of commas per sentence)\n",
    "- proportion of text that are nouns\n"
   ]
  },
  {
   "cell_type": "code",
   "execution_count": null,
   "metadata": {},
   "outputs": [],
   "source": [
    "#import dependencies\n",
    "import pandas as pd\n",
    "import nltk\n",
    "import string\n"
   ]
  },
  {
   "cell_type": "code",
   "execution_count": null,
   "metadata": {},
   "outputs": [],
   "source": [
    "#read in data\n",
    "asap_df = pd.read_excel(\"../cleanData/mergedAsap.xlsx\")"
   ]
  },
  {
   "cell_type": "code",
   "execution_count": null,
   "metadata": {},
   "outputs": [],
   "source": [
    "\n"
   ]
  }
 ],
 "metadata": {
  "kernelspec": {
   "display_name": "base",
   "language": "python",
   "name": "python3"
  },
  "language_info": {
   "name": "python",
   "version": "3.9.13"
  },
  "orig_nbformat": 4
 },
 "nbformat": 4,
 "nbformat_minor": 2
}
