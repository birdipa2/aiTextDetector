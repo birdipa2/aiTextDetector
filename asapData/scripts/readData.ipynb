{
 "cells": [
  {
   "cell_type": "markdown",
   "metadata": {},
   "source": [
    "# NLP Pipeline Jupyter Notebook for the aiTextDetect Project\n",
    "\n",
    "## Reading in the ASAP kaggle datasets"
   ]
  },
  {
   "cell_type": "code",
   "execution_count": 24,
   "metadata": {
    "scrolled": true
   },
   "outputs": [],
   "source": [
    "#install dependencies\n",
    "import pandas as pd\n",
    "import numpy as np\n",
    "#import plotnine as p9"
   ]
  },
  {
   "cell_type": "code",
   "execution_count": 50,
   "metadata": {},
   "outputs": [],
   "source": [
    "#read the datasets\n",
    "\n",
    "#read in the training dataset\n",
    "trainDf = pd.read_excel(\"../rawData/training_set_rel3.xlsx\")\n",
    "trainDf = trainDf[[\"essay_id\", \"essay_set\", \"essay\"]] #only keep relevant colummns\n",
    "trainDf[\"ai_generated\"] = 0 #create new variable desigating whether the data are ai generated (1) or human generated (0)\n",
    "trainDf\n",
    "\n",
    "#read in the validation dataset\n",
    "validDf = pd.read_excel(\"../rawData/valid_set.xlsx\")\n",
    "validDf = validDf[[\"essay_id\", \"essay_set\", \"essay\"]] #only keep relevant colummns\n",
    "validDf[\"ai_generated\"] = 0 #create new variable desigating whether the data are ai generated (1) or human generated (0)\n",
    "validDf\n",
    "\n",
    "#read in the 'test' dataset (we'll create our own k-fold crossvalidation)\n",
    "testDf = pd.read_csv(\"../rawData/test_set.tsv\", sep = \"\\t\", encoding = \"latin-1\") #got an error with default encoding. This site https://github.com/nusnlp/nea/issues/11 suggested latin-1 encoding\n",
    "testDf = testDf[[\"essay_id\", \"essay_set\", \"essay\"]] #keep relevant columns\n",
    "testDf[\"ai_generated\"] = 0 #create new variable desigating whether the data are ai generated (1) or human generated (0)\n",
    "\n",
    "#merge the three datasets into a preliminary dataset\n",
    "mergeDf = pd.concat([trainDf, validDf, testDf], axis = 0)\n",
    "\n",
    "#write merged file to excel doc\n",
    "mergeDf.to_excel(\"../cleanData/mergedAsap.xlsx\")\n",
    "\n"
   ]
  },
  {
   "cell_type": "code",
   "execution_count": null,
   "metadata": {},
   "outputs": [],
   "source": [
    "\n"
   ]
  }
 ],
 "metadata": {
  "kernelspec": {
   "display_name": "Python 3 (ipykernel)",
   "language": "python",
   "name": "python3"
  },
  "language_info": {
   "codemirror_mode": {
    "name": "ipython",
    "version": 3
   },
   "file_extension": ".py",
   "mimetype": "text/x-python",
   "name": "python",
   "nbconvert_exporter": "python",
   "pygments_lexer": "ipython3",
   "version": "3.9.13"
  }
 },
 "nbformat": 4,
 "nbformat_minor": 2
}
